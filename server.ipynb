{
 "cells": [
  {
   "cell_type": "code",
   "execution_count": 8,
   "id": "be5f2df9",
   "metadata": {},
   "outputs": [],
   "source": [
    "import tenseal as ts\n",
    "import sys\n",
    "from filerw import *"
   ]
  },
  {
   "cell_type": "code",
   "execution_count": 9,
   "id": "8117c67e",
   "metadata": {},
   "outputs": [],
   "source": [
    "b = [j for j in range(5000)]\n",
    "\n",
    "public_context = readCkks(\"public_context\")\n",
    "context = ts.context_from(public_context)\n",
    "\n",
    "enc_as = readCkks(\"enc_as\")\n",
    "enc_asa = ts.lazy_ckks_vector_from(enc_as)\n",
    "enc_asa.link_context(context)\n",
    "\n",
    "c = enc_asa + b\n",
    "c_s = c.serialize()\n",
    "writeCkks(c_s, \"c_s\")"
   ]
  },
  {
   "cell_type": "code",
   "execution_count": null,
   "id": "17b57a4d",
   "metadata": {},
   "outputs": [],
   "source": []
  }
 ],
 "metadata": {
  "kernelspec": {
   "display_name": "Python [conda env:menv]",
   "language": "python",
   "name": "conda-env-menv-py"
  },
  "language_info": {
   "codemirror_mode": {
    "name": "ipython",
    "version": 3
   },
   "file_extension": ".py",
   "mimetype": "text/x-python",
   "name": "python",
   "nbconvert_exporter": "python",
   "pygments_lexer": "ipython3",
   "version": "3.10.12"
  }
 },
 "nbformat": 4,
 "nbformat_minor": 5
}
